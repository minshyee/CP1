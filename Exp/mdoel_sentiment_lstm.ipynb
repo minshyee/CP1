{
  "nbformat": 4,
  "nbformat_minor": 0,
  "metadata": {
    "colab": {
      "name": "mdoel-sentiment-lstm.ipynb",
      "provenance": [],
      "authorship_tag": "ABX9TyPJHP8SDw6uQbc9kjxutUcB",
      "include_colab_link": true
    },
    "kernelspec": {
      "name": "python3",
      "display_name": "Python 3"
    },
    "language_info": {
      "name": "python"
    }
  },
  "cells": [
    {
      "cell_type": "markdown",
      "metadata": {
        "id": "view-in-github",
        "colab_type": "text"
      },
      "source": [
        "<a href=\"https://colab.research.google.com/github/minshyee/CP1/blob/main/mdoel_sentiment_lstm.ipynb\" target=\"_parent\"><img src=\"https://colab.research.google.com/assets/colab-badge.svg\" alt=\"Open In Colab\"/></a>"
      ]
    },
    {
      "cell_type": "code",
      "source": [
        "import pandas as pd\n",
        "import numpy as np"
      ],
      "metadata": {
        "id": "5qFEblyNIKyg"
      },
      "execution_count": null,
      "outputs": []
    },
    {
      "cell_type": "code",
      "source": [
        "from google.colab import drive\n",
        "drive.mount('/content/drive')"
      ],
      "metadata": {
        "colab": {
          "base_uri": "https://localhost:8080/"
        },
        "id": "4X7britIgnjz",
        "outputId": "629b0df8-8ef7-46ec-86b8-922ed465b756"
      },
      "execution_count": null,
      "outputs": [
        {
          "output_type": "stream",
          "name": "stdout",
          "text": [
            "Mounted at /content/drive\n"
          ]
        }
      ]
    },
    {
      "cell_type": "code",
      "source": [
        "origin = pd.read_csv('/content/drive/MyDrive/AIBootCamp/cp1/new_ctrain_df.csv')\n",
        "origin.drop('Unnamed: 0', axis=1, inplace=True)\n",
        "origin"
      ],
      "metadata": {
        "colab": {
          "base_uri": "https://localhost:8080/",
          "height": 641
        },
        "id": "8wAdgC4J-LiZ",
        "outputId": "06227a54-547c-4e7b-875c-26d343fbc414"
      },
      "execution_count": null,
      "outputs": [
        {
          "output_type": "execute_result",
          "data": {
            "text/html": [
              "\n",
              "  <div id=\"df-5bcc8b12-d833-4ef7-852f-f29b03b34b8d\">\n",
              "    <div class=\"colab-df-container\">\n",
              "      <div>\n",
              "<style scoped>\n",
              "    .dataframe tbody tr th:only-of-type {\n",
              "        vertical-align: middle;\n",
              "    }\n",
              "\n",
              "    .dataframe tbody tr th {\n",
              "        vertical-align: top;\n",
              "    }\n",
              "\n",
              "    .dataframe thead th {\n",
              "        text-align: right;\n",
              "    }\n",
              "</style>\n",
              "<table border=\"1\" class=\"dataframe\">\n",
              "  <thead>\n",
              "    <tr style=\"text-align: right;\">\n",
              "      <th></th>\n",
              "      <th>text</th>\n",
              "      <th>leng</th>\n",
              "      <th>tokens</th>\n",
              "      <th>target</th>\n",
              "      <th>cnt_tokens</th>\n",
              "    </tr>\n",
              "  </thead>\n",
              "  <tbody>\n",
              "    <tr>\n",
              "      <th>0</th>\n",
              "      <td>going kill sooni dont know know body mind comp...</td>\n",
              "      <td>250</td>\n",
              "      <td>['going', 'kill', 'sooni', 'know', 'know', 'bo...</td>\n",
              "      <td>1</td>\n",
              "      <td>37</td>\n",
              "    </tr>\n",
              "    <tr>\n",
              "      <th>1</th>\n",
              "      <td>sub diary day 68 today great school stuff basi...</td>\n",
              "      <td>130</td>\n",
              "      <td>['sub', 'diary', 'day', '68', 'today', 'great'...</td>\n",
              "      <td>0</td>\n",
              "      <td>22</td>\n",
              "    </tr>\n",
              "    <tr>\n",
              "      <th>2</th>\n",
              "      <td>supposed doive got problem years antisocial da...</td>\n",
              "      <td>710</td>\n",
              "      <td>['supposed', 'doive', 'got', 'problem', 'years...</td>\n",
              "      <td>1</td>\n",
              "      <td>100</td>\n",
              "    </tr>\n",
              "    <tr>\n",
              "      <th>3</th>\n",
              "      <td>hey yes need help new subreddit ground subredd...</td>\n",
              "      <td>181</td>\n",
              "      <td>['hey', 'yes', 'need', 'help', 'new', 'subredd...</td>\n",
              "      <td>0</td>\n",
              "      <td>23</td>\n",
              "    </tr>\n",
              "    <tr>\n",
              "      <th>4</th>\n",
              "      <td>non trans gender dysphoria like menstruation e...</td>\n",
              "      <td>420</td>\n",
              "      <td>['non', 'trans', 'gender', 'dysphoria', 'like'...</td>\n",
              "      <td>0</td>\n",
              "      <td>53</td>\n",
              "    </tr>\n",
              "    <tr>\n",
              "      <th>...</th>\n",
              "      <td>...</td>\n",
              "      <td>...</td>\n",
              "      <td>...</td>\n",
              "      <td>...</td>\n",
              "      <td>...</td>\n",
              "    </tr>\n",
              "    <tr>\n",
              "      <th>182129</th>\n",
              "      <td>found combo steve minecraft forgot save vault ...</td>\n",
              "      <td>111</td>\n",
              "      <td>['found', 'combo', 'steve', 'minecraft', 'forg...</td>\n",
              "      <td>0</td>\n",
              "      <td>18</td>\n",
              "    </tr>\n",
              "    <tr>\n",
              "      <th>182130</th>\n",
              "      <td>hate admit california texas similar loyalty yo...</td>\n",
              "      <td>264</td>\n",
              "      <td>['hate', 'admit', 'california', 'texas', 'simi...</td>\n",
              "      <td>0</td>\n",
              "      <td>35</td>\n",
              "    </tr>\n",
              "    <tr>\n",
              "      <th>182131</th>\n",
              "      <td>people online 20000 horny mf time whats guys</td>\n",
              "      <td>44</td>\n",
              "      <td>['people', 'online', '20000', 'horny', 'mf', '...</td>\n",
              "      <td>0</td>\n",
              "      <td>8</td>\n",
              "    </tr>\n",
              "    <tr>\n",
              "      <th>182132</th>\n",
              "      <td>fuck chemistry man gotta study thing wanna lif...</td>\n",
              "      <td>56</td>\n",
              "      <td>['fuck', 'chemistry', 'man', 'gotta', 'study',...</td>\n",
              "      <td>0</td>\n",
              "      <td>10</td>\n",
              "    </tr>\n",
              "    <tr>\n",
              "      <th>182133</th>\n",
              "      <td>reeses wrapper ground pocket things like convi...</td>\n",
              "      <td>62</td>\n",
              "      <td>['reeses', 'wrapper', 'ground', 'pocket', 'thi...</td>\n",
              "      <td>0</td>\n",
              "      <td>8</td>\n",
              "    </tr>\n",
              "  </tbody>\n",
              "</table>\n",
              "<p>182134 rows × 5 columns</p>\n",
              "</div>\n",
              "      <button class=\"colab-df-convert\" onclick=\"convertToInteractive('df-5bcc8b12-d833-4ef7-852f-f29b03b34b8d')\"\n",
              "              title=\"Convert this dataframe to an interactive table.\"\n",
              "              style=\"display:none;\">\n",
              "        \n",
              "  <svg xmlns=\"http://www.w3.org/2000/svg\" height=\"24px\"viewBox=\"0 0 24 24\"\n",
              "       width=\"24px\">\n",
              "    <path d=\"M0 0h24v24H0V0z\" fill=\"none\"/>\n",
              "    <path d=\"M18.56 5.44l.94 2.06.94-2.06 2.06-.94-2.06-.94-.94-2.06-.94 2.06-2.06.94zm-11 1L8.5 8.5l.94-2.06 2.06-.94-2.06-.94L8.5 2.5l-.94 2.06-2.06.94zm10 10l.94 2.06.94-2.06 2.06-.94-2.06-.94-.94-2.06-.94 2.06-2.06.94z\"/><path d=\"M17.41 7.96l-1.37-1.37c-.4-.4-.92-.59-1.43-.59-.52 0-1.04.2-1.43.59L10.3 9.45l-7.72 7.72c-.78.78-.78 2.05 0 2.83L4 21.41c.39.39.9.59 1.41.59.51 0 1.02-.2 1.41-.59l7.78-7.78 2.81-2.81c.8-.78.8-2.07 0-2.86zM5.41 20L4 18.59l7.72-7.72 1.47 1.35L5.41 20z\"/>\n",
              "  </svg>\n",
              "      </button>\n",
              "      \n",
              "  <style>\n",
              "    .colab-df-container {\n",
              "      display:flex;\n",
              "      flex-wrap:wrap;\n",
              "      gap: 12px;\n",
              "    }\n",
              "\n",
              "    .colab-df-convert {\n",
              "      background-color: #E8F0FE;\n",
              "      border: none;\n",
              "      border-radius: 50%;\n",
              "      cursor: pointer;\n",
              "      display: none;\n",
              "      fill: #1967D2;\n",
              "      height: 32px;\n",
              "      padding: 0 0 0 0;\n",
              "      width: 32px;\n",
              "    }\n",
              "\n",
              "    .colab-df-convert:hover {\n",
              "      background-color: #E2EBFA;\n",
              "      box-shadow: 0px 1px 2px rgba(60, 64, 67, 0.3), 0px 1px 3px 1px rgba(60, 64, 67, 0.15);\n",
              "      fill: #174EA6;\n",
              "    }\n",
              "\n",
              "    [theme=dark] .colab-df-convert {\n",
              "      background-color: #3B4455;\n",
              "      fill: #D2E3FC;\n",
              "    }\n",
              "\n",
              "    [theme=dark] .colab-df-convert:hover {\n",
              "      background-color: #434B5C;\n",
              "      box-shadow: 0px 1px 3px 1px rgba(0, 0, 0, 0.15);\n",
              "      filter: drop-shadow(0px 1px 2px rgba(0, 0, 0, 0.3));\n",
              "      fill: #FFFFFF;\n",
              "    }\n",
              "  </style>\n",
              "\n",
              "      <script>\n",
              "        const buttonEl =\n",
              "          document.querySelector('#df-5bcc8b12-d833-4ef7-852f-f29b03b34b8d button.colab-df-convert');\n",
              "        buttonEl.style.display =\n",
              "          google.colab.kernel.accessAllowed ? 'block' : 'none';\n",
              "\n",
              "        async function convertToInteractive(key) {\n",
              "          const element = document.querySelector('#df-5bcc8b12-d833-4ef7-852f-f29b03b34b8d');\n",
              "          const dataTable =\n",
              "            await google.colab.kernel.invokeFunction('convertToInteractive',\n",
              "                                                     [key], {});\n",
              "          if (!dataTable) return;\n",
              "\n",
              "          const docLinkHtml = 'Like what you see? Visit the ' +\n",
              "            '<a target=\"_blank\" href=https://colab.research.google.com/notebooks/data_table.ipynb>data table notebook</a>'\n",
              "            + ' to learn more about interactive tables.';\n",
              "          element.innerHTML = '';\n",
              "          dataTable['output_type'] = 'display_data';\n",
              "          await google.colab.output.renderOutput(dataTable, element);\n",
              "          const docLink = document.createElement('div');\n",
              "          docLink.innerHTML = docLinkHtml;\n",
              "          element.appendChild(docLink);\n",
              "        }\n",
              "      </script>\n",
              "    </div>\n",
              "  </div>\n",
              "  "
            ],
            "text/plain": [
              "                                                     text  ...  cnt_tokens\n",
              "0       going kill sooni dont know know body mind comp...  ...          37\n",
              "1       sub diary day 68 today great school stuff basi...  ...          22\n",
              "2       supposed doive got problem years antisocial da...  ...         100\n",
              "3       hey yes need help new subreddit ground subredd...  ...          23\n",
              "4       non trans gender dysphoria like menstruation e...  ...          53\n",
              "...                                                   ...  ...         ...\n",
              "182129  found combo steve minecraft forgot save vault ...  ...          18\n",
              "182130  hate admit california texas similar loyalty yo...  ...          35\n",
              "182131       people online 20000 horny mf time whats guys  ...           8\n",
              "182132  fuck chemistry man gotta study thing wanna lif...  ...          10\n",
              "182133  reeses wrapper ground pocket things like convi...  ...           8\n",
              "\n",
              "[182134 rows x 5 columns]"
            ]
          },
          "metadata": {},
          "execution_count": 3
        }
      ]
    },
    {
      "cell_type": "markdown",
      "source": [
        "### test data preprocessing"
      ],
      "metadata": {
        "id": "wE6WmyhSQBnz"
      }
    },
    {
      "cell_type": "code",
      "source": [
        "test = pd.read_csv('/content/drive/MyDrive/AIBootCamp/cp1/train_data.csv')\n",
        "test.drop('Unnamed: 0', axis=1, inplace=True)\n",
        "test"
      ],
      "metadata": {
        "colab": {
          "base_uri": "https://localhost:8080/",
          "height": 641
        },
        "id": "htIvwDIgPaqJ",
        "outputId": "1ad54c5b-e98e-4a19-9c76-91b08b45307a"
      },
      "execution_count": null,
      "outputs": [
        {
          "output_type": "execute_result",
          "data": {
            "text/html": [
              "\n",
              "  <div id=\"df-20155bc5-c053-4991-9e19-86d11c4221d7\">\n",
              "    <div class=\"colab-df-container\">\n",
              "      <div>\n",
              "<style scoped>\n",
              "    .dataframe tbody tr th:only-of-type {\n",
              "        vertical-align: middle;\n",
              "    }\n",
              "\n",
              "    .dataframe tbody tr th {\n",
              "        vertical-align: top;\n",
              "    }\n",
              "\n",
              "    .dataframe thead th {\n",
              "        text-align: right;\n",
              "    }\n",
              "</style>\n",
              "<table border=\"1\" class=\"dataframe\">\n",
              "  <thead>\n",
              "    <tr style=\"text-align: right;\">\n",
              "      <th></th>\n",
              "      <th>text</th>\n",
              "      <th>leng</th>\n",
              "      <th>tokens</th>\n",
              "      <th>target</th>\n",
              "    </tr>\n",
              "  </thead>\n",
              "  <tbody>\n",
              "    <tr>\n",
              "      <th>0</th>\n",
              "      <td>going kill sooni dont know know body mind comp...</td>\n",
              "      <td>41</td>\n",
              "      <td>['going', 'kill', 'sooni', 'know', 'know', 'bo...</td>\n",
              "      <td>1</td>\n",
              "    </tr>\n",
              "    <tr>\n",
              "      <th>1</th>\n",
              "      <td>sub diary day 68 today great school stuff basi...</td>\n",
              "      <td>22</td>\n",
              "      <td>['sub', 'diary', 'day', '68', 'today', 'great'...</td>\n",
              "      <td>0</td>\n",
              "    </tr>\n",
              "    <tr>\n",
              "      <th>2</th>\n",
              "      <td>supposed doive got problem years antisocial da...</td>\n",
              "      <td>109</td>\n",
              "      <td>['supposed', 'doive', 'got', 'problem', 'years...</td>\n",
              "      <td>1</td>\n",
              "    </tr>\n",
              "    <tr>\n",
              "      <th>3</th>\n",
              "      <td>hey yes need help new subreddit ground subredd...</td>\n",
              "      <td>23</td>\n",
              "      <td>['hey', 'yes', 'need', 'help', 'new', 'subredd...</td>\n",
              "      <td>0</td>\n",
              "    </tr>\n",
              "    <tr>\n",
              "      <th>4</th>\n",
              "      <td>non trans gender dysphoria like menstruation e...</td>\n",
              "      <td>55</td>\n",
              "      <td>['non', 'trans', 'gender', 'dysphoria', 'like'...</td>\n",
              "      <td>0</td>\n",
              "    </tr>\n",
              "    <tr>\n",
              "      <th>...</th>\n",
              "      <td>...</td>\n",
              "      <td>...</td>\n",
              "      <td>...</td>\n",
              "      <td>...</td>\n",
              "    </tr>\n",
              "    <tr>\n",
              "      <th>185654</th>\n",
              "      <td>found combo steve minecraft forgot save vault ...</td>\n",
              "      <td>19</td>\n",
              "      <td>['found', 'combo', 'steve', 'minecraft', 'forg...</td>\n",
              "      <td>0</td>\n",
              "    </tr>\n",
              "    <tr>\n",
              "      <th>185655</th>\n",
              "      <td>hate admit california texas similar loyalty yo...</td>\n",
              "      <td>35</td>\n",
              "      <td>['hate', 'admit', 'california', 'texas', 'simi...</td>\n",
              "      <td>0</td>\n",
              "    </tr>\n",
              "    <tr>\n",
              "      <th>185656</th>\n",
              "      <td>people online 20000 horny mf time whats guys</td>\n",
              "      <td>8</td>\n",
              "      <td>['people', 'online', '20000', 'horny', 'mf', '...</td>\n",
              "      <td>0</td>\n",
              "    </tr>\n",
              "    <tr>\n",
              "      <th>185657</th>\n",
              "      <td>fuck chemistry man gotta study thing wanna lif...</td>\n",
              "      <td>10</td>\n",
              "      <td>['fuck', 'chemistry', 'man', 'gotta', 'study',...</td>\n",
              "      <td>0</td>\n",
              "    </tr>\n",
              "    <tr>\n",
              "      <th>185658</th>\n",
              "      <td>reeses wrapper ground pocket things like convi...</td>\n",
              "      <td>9</td>\n",
              "      <td>['reeses', 'wrapper', 'ground', 'pocket', 'thi...</td>\n",
              "      <td>0</td>\n",
              "    </tr>\n",
              "  </tbody>\n",
              "</table>\n",
              "<p>185659 rows × 4 columns</p>\n",
              "</div>\n",
              "      <button class=\"colab-df-convert\" onclick=\"convertToInteractive('df-20155bc5-c053-4991-9e19-86d11c4221d7')\"\n",
              "              title=\"Convert this dataframe to an interactive table.\"\n",
              "              style=\"display:none;\">\n",
              "        \n",
              "  <svg xmlns=\"http://www.w3.org/2000/svg\" height=\"24px\"viewBox=\"0 0 24 24\"\n",
              "       width=\"24px\">\n",
              "    <path d=\"M0 0h24v24H0V0z\" fill=\"none\"/>\n",
              "    <path d=\"M18.56 5.44l.94 2.06.94-2.06 2.06-.94-2.06-.94-.94-2.06-.94 2.06-2.06.94zm-11 1L8.5 8.5l.94-2.06 2.06-.94-2.06-.94L8.5 2.5l-.94 2.06-2.06.94zm10 10l.94 2.06.94-2.06 2.06-.94-2.06-.94-.94-2.06-.94 2.06-2.06.94z\"/><path d=\"M17.41 7.96l-1.37-1.37c-.4-.4-.92-.59-1.43-.59-.52 0-1.04.2-1.43.59L10.3 9.45l-7.72 7.72c-.78.78-.78 2.05 0 2.83L4 21.41c.39.39.9.59 1.41.59.51 0 1.02-.2 1.41-.59l7.78-7.78 2.81-2.81c.8-.78.8-2.07 0-2.86zM5.41 20L4 18.59l7.72-7.72 1.47 1.35L5.41 20z\"/>\n",
              "  </svg>\n",
              "      </button>\n",
              "      \n",
              "  <style>\n",
              "    .colab-df-container {\n",
              "      display:flex;\n",
              "      flex-wrap:wrap;\n",
              "      gap: 12px;\n",
              "    }\n",
              "\n",
              "    .colab-df-convert {\n",
              "      background-color: #E8F0FE;\n",
              "      border: none;\n",
              "      border-radius: 50%;\n",
              "      cursor: pointer;\n",
              "      display: none;\n",
              "      fill: #1967D2;\n",
              "      height: 32px;\n",
              "      padding: 0 0 0 0;\n",
              "      width: 32px;\n",
              "    }\n",
              "\n",
              "    .colab-df-convert:hover {\n",
              "      background-color: #E2EBFA;\n",
              "      box-shadow: 0px 1px 2px rgba(60, 64, 67, 0.3), 0px 1px 3px 1px rgba(60, 64, 67, 0.15);\n",
              "      fill: #174EA6;\n",
              "    }\n",
              "\n",
              "    [theme=dark] .colab-df-convert {\n",
              "      background-color: #3B4455;\n",
              "      fill: #D2E3FC;\n",
              "    }\n",
              "\n",
              "    [theme=dark] .colab-df-convert:hover {\n",
              "      background-color: #434B5C;\n",
              "      box-shadow: 0px 1px 3px 1px rgba(0, 0, 0, 0.15);\n",
              "      filter: drop-shadow(0px 1px 2px rgba(0, 0, 0, 0.3));\n",
              "      fill: #FFFFFF;\n",
              "    }\n",
              "  </style>\n",
              "\n",
              "      <script>\n",
              "        const buttonEl =\n",
              "          document.querySelector('#df-20155bc5-c053-4991-9e19-86d11c4221d7 button.colab-df-convert');\n",
              "        buttonEl.style.display =\n",
              "          google.colab.kernel.accessAllowed ? 'block' : 'none';\n",
              "\n",
              "        async function convertToInteractive(key) {\n",
              "          const element = document.querySelector('#df-20155bc5-c053-4991-9e19-86d11c4221d7');\n",
              "          const dataTable =\n",
              "            await google.colab.kernel.invokeFunction('convertToInteractive',\n",
              "                                                     [key], {});\n",
              "          if (!dataTable) return;\n",
              "\n",
              "          const docLinkHtml = 'Like what you see? Visit the ' +\n",
              "            '<a target=\"_blank\" href=https://colab.research.google.com/notebooks/data_table.ipynb>data table notebook</a>'\n",
              "            + ' to learn more about interactive tables.';\n",
              "          element.innerHTML = '';\n",
              "          dataTable['output_type'] = 'display_data';\n",
              "          await google.colab.output.renderOutput(dataTable, element);\n",
              "          const docLink = document.createElement('div');\n",
              "          docLink.innerHTML = docLinkHtml;\n",
              "          element.appendChild(docLink);\n",
              "        }\n",
              "      </script>\n",
              "    </div>\n",
              "  </div>\n",
              "  "
            ],
            "text/plain": [
              "                                                     text  ...  target\n",
              "0       going kill sooni dont know know body mind comp...  ...       1\n",
              "1       sub diary day 68 today great school stuff basi...  ...       0\n",
              "2       supposed doive got problem years antisocial da...  ...       1\n",
              "3       hey yes need help new subreddit ground subredd...  ...       0\n",
              "4       non trans gender dysphoria like menstruation e...  ...       0\n",
              "...                                                   ...  ...     ...\n",
              "185654  found combo steve minecraft forgot save vault ...  ...       0\n",
              "185655  hate admit california texas similar loyalty yo...  ...       0\n",
              "185656       people online 20000 horny mf time whats guys  ...       0\n",
              "185657  fuck chemistry man gotta study thing wanna lif...  ...       0\n",
              "185658  reeses wrapper ground pocket things like convi...  ...       0\n",
              "\n",
              "[185659 rows x 4 columns]"
            ]
          },
          "metadata": {},
          "execution_count": 4
        }
      ]
    },
    {
      "cell_type": "code",
      "source": [
        "test.isnull().sum()"
      ],
      "metadata": {
        "colab": {
          "base_uri": "https://localhost:8080/"
        },
        "id": "_exmhZq6PnhU",
        "outputId": "9bda113f-7b95-4b51-fc1e-e2046f515192"
      },
      "execution_count": null,
      "outputs": [
        {
          "output_type": "execute_result",
          "data": {
            "text/plain": [
              "text      55\n",
              "leng       0\n",
              "tokens     0\n",
              "target     0\n",
              "dtype: int64"
            ]
          },
          "metadata": {},
          "execution_count": 5
        }
      ]
    },
    {
      "cell_type": "code",
      "source": [
        "test.dropna(inplace=True)"
      ],
      "metadata": {
        "id": "PwdLzPKePpk9"
      },
      "execution_count": null,
      "outputs": []
    },
    {
      "cell_type": "code",
      "source": [
        "test.isnull().sum()"
      ],
      "metadata": {
        "colab": {
          "base_uri": "https://localhost:8080/"
        },
        "id": "JDJhVlh2QTpt",
        "outputId": "ba238352-1c43-41e2-9847-31867916adbf"
      },
      "execution_count": null,
      "outputs": [
        {
          "output_type": "execute_result",
          "data": {
            "text/plain": [
              "text      0\n",
              "leng      0\n",
              "tokens    0\n",
              "target    0\n",
              "dtype: int64"
            ]
          },
          "metadata": {},
          "execution_count": 7
        }
      ]
    },
    {
      "cell_type": "code",
      "source": [
        "test['leng'] = test.text.apply(lambda x: len(x))\n",
        "test = test[test['leng']>15].reset_index(drop=True)"
      ],
      "metadata": {
        "id": "8cyTZnzaQLjf"
      },
      "execution_count": null,
      "outputs": []
    },
    {
      "cell_type": "code",
      "source": [
        "import ast # list convert\n",
        "def convert_lst(x):\n",
        "  x = ast.literal_eval(x)\n",
        "  return len(x)"
      ],
      "metadata": {
        "id": "0OlmGiCLP08z"
      },
      "execution_count": null,
      "outputs": []
    },
    {
      "cell_type": "code",
      "source": [
        "test['cnt_tokens'] = test.tokens.apply(convert_lst)\n",
        "test = test[test['cnt_tokens']>3]"
      ],
      "metadata": {
        "id": "tfjPPIQ_P36R"
      },
      "execution_count": null,
      "outputs": []
    },
    {
      "cell_type": "code",
      "source": [
        "test_X = test.drop('target', axis=1)\n",
        "test_y = test['target']\n",
        "\n",
        "test_X.shape, test_y.shape"
      ],
      "metadata": {
        "colab": {
          "base_uri": "https://localhost:8080/"
        },
        "id": "Hw6dibEuQX2j",
        "outputId": "bc74415a-fcb6-4e28-94ab-5f80380a41da"
      },
      "execution_count": null,
      "outputs": [
        {
          "output_type": "execute_result",
          "data": {
            "text/plain": [
              "((182134, 4), (182134,))"
            ]
          },
          "metadata": {},
          "execution_count": 11
        }
      ]
    },
    {
      "cell_type": "code",
      "source": [
        "df = origin.copy()"
      ],
      "metadata": {
        "id": "D8m30aYRIawu"
      },
      "execution_count": null,
      "outputs": []
    },
    {
      "cell_type": "code",
      "source": [
        "train_X = df.drop('target', axis=1)\n",
        "train_y = df['target']\n",
        "\n",
        "train_X.shape, train_y.shape"
      ],
      "metadata": {
        "colab": {
          "base_uri": "https://localhost:8080/"
        },
        "id": "jqFs7ikIIYbS",
        "outputId": "1f259de2-1564-41ab-cf73-1f97af268fad"
      },
      "execution_count": null,
      "outputs": [
        {
          "output_type": "execute_result",
          "data": {
            "text/plain": [
              "((182134, 4), (182134,))"
            ]
          },
          "metadata": {},
          "execution_count": 13
        }
      ]
    },
    {
      "cell_type": "markdown",
      "source": [
        "# LSTM\n"
      ],
      "metadata": {
        "id": "EPM44yyDlWwN"
      }
    },
    {
      "cell_type": "code",
      "source": [
        "import tensorflow as tf\n",
        "from keras.layers import Embedding,Dense,LSTM,Bidirectional,GlobalMaxPooling1D,Dropout,Input\n",
        "from keras.callbacks import EarlyStopping, ReduceLROnPlateau\n",
        "from keras.models import Sequential\n",
        "from tensorflow.keras.optimizers import Adam\n",
        "\n",
        "from keras.preprocessing.text import Tokenizer\n",
        "from keras.preprocessing.sequence import pad_sequences\n",
        "\n",
        "from sklearn.metrics import classification_report\n",
        "from sklearn.preprocessing import LabelEncoder\n"
      ],
      "metadata": {
        "id": "c__oLfRz84iz"
      },
      "execution_count": null,
      "outputs": []
    },
    {
      "cell_type": "code",
      "source": [
        "tokenizer=Tokenizer()"
      ],
      "metadata": {
        "id": "pzkJPOR295MJ"
      },
      "execution_count": null,
      "outputs": []
    },
    {
      "cell_type": "code",
      "execution_count": null,
      "metadata": {
        "id": "qfA8Wb_gG7IS"
      },
      "outputs": [],
      "source": [
        "train_text_seq=tokenizer.texts_to_sequences(df['text'])\n",
        "train_text_pad=pad_sequences(train_text_seq,maxlen=50)\n",
        "\n",
        "#test\n",
        "test_text_seq=tokenizer.texts_to_sequences(test_X['text'])\n",
        "test_text_pad=pad_sequences(test_text_seq,maxlen=50)"
      ]
    },
    {
      "cell_type": "code",
      "source": [
        "lbl_target=LabelEncoder()\n",
        "train_output=lbl_target.fit_transform(train_y)\n",
        "test_output=lbl_target.transform(test_y)"
      ],
      "metadata": {
        "id": "nazK7rihWb9V"
      },
      "execution_count": null,
      "outputs": []
    },
    {
      "cell_type": "markdown",
      "source": [
        "## callback"
      ],
      "metadata": {
        "id": "F7ZYGJ6NI6ZD"
      }
    },
    {
      "cell_type": "code",
      "source": [
        "early_stop=EarlyStopping(patience=5)\n",
        "reducelr=ReduceLROnPlateau(patience=3)"
      ],
      "metadata": {
        "id": "dUtvhPKVI5kE"
      },
      "execution_count": null,
      "outputs": []
    },
    {
      "cell_type": "markdown",
      "source": [
        "## Glove 훈련\n"
      ],
      "metadata": {
        "id": "1GkzgwXVK5CG"
      }
    },
    {
      "cell_type": "code",
      "source": [
        "!pip install glove_python_binary"
      ],
      "metadata": {
        "colab": {
          "base_uri": "https://localhost:8080/"
        },
        "id": "i-p3VMtmJ1NC",
        "outputId": "59247487-4cd2-4983-e8ff-54f08ab7e475"
      },
      "execution_count": null,
      "outputs": [
        {
          "output_type": "stream",
          "name": "stdout",
          "text": [
            "Collecting glove_python_binary\n",
            "  Downloading glove_python_binary-0.2.0-cp37-cp37m-manylinux1_x86_64.whl (948 kB)\n",
            "\u001b[?25l\r\u001b[K     |▍                               | 10 kB 13.4 MB/s eta 0:00:01\r\u001b[K     |▊                               | 20 kB 17.5 MB/s eta 0:00:01\r\u001b[K     |█                               | 30 kB 22.0 MB/s eta 0:00:01\r\u001b[K     |█▍                              | 40 kB 14.2 MB/s eta 0:00:01\r\u001b[K     |█▊                              | 51 kB 6.5 MB/s eta 0:00:01\r\u001b[K     |██                              | 61 kB 7.5 MB/s eta 0:00:01\r\u001b[K     |██▍                             | 71 kB 8.4 MB/s eta 0:00:01\r\u001b[K     |██▊                             | 81 kB 9.2 MB/s eta 0:00:01\r\u001b[K     |███                             | 92 kB 10.2 MB/s eta 0:00:01\r\u001b[K     |███▌                            | 102 kB 8.8 MB/s eta 0:00:01\r\u001b[K     |███▉                            | 112 kB 8.8 MB/s eta 0:00:01\r\u001b[K     |████▏                           | 122 kB 8.8 MB/s eta 0:00:01\r\u001b[K     |████▌                           | 133 kB 8.8 MB/s eta 0:00:01\r\u001b[K     |████▉                           | 143 kB 8.8 MB/s eta 0:00:01\r\u001b[K     |█████▏                          | 153 kB 8.8 MB/s eta 0:00:01\r\u001b[K     |█████▌                          | 163 kB 8.8 MB/s eta 0:00:01\r\u001b[K     |█████▉                          | 174 kB 8.8 MB/s eta 0:00:01\r\u001b[K     |██████▏                         | 184 kB 8.8 MB/s eta 0:00:01\r\u001b[K     |██████▋                         | 194 kB 8.8 MB/s eta 0:00:01\r\u001b[K     |███████                         | 204 kB 8.8 MB/s eta 0:00:01\r\u001b[K     |███████▎                        | 215 kB 8.8 MB/s eta 0:00:01\r\u001b[K     |███████▋                        | 225 kB 8.8 MB/s eta 0:00:01\r\u001b[K     |████████                        | 235 kB 8.8 MB/s eta 0:00:01\r\u001b[K     |████████▎                       | 245 kB 8.8 MB/s eta 0:00:01\r\u001b[K     |████████▋                       | 256 kB 8.8 MB/s eta 0:00:01\r\u001b[K     |█████████                       | 266 kB 8.8 MB/s eta 0:00:01\r\u001b[K     |█████████▎                      | 276 kB 8.8 MB/s eta 0:00:01\r\u001b[K     |█████████▊                      | 286 kB 8.8 MB/s eta 0:00:01\r\u001b[K     |██████████                      | 296 kB 8.8 MB/s eta 0:00:01\r\u001b[K     |██████████▍                     | 307 kB 8.8 MB/s eta 0:00:01\r\u001b[K     |██████████▊                     | 317 kB 8.8 MB/s eta 0:00:01\r\u001b[K     |███████████                     | 327 kB 8.8 MB/s eta 0:00:01\r\u001b[K     |███████████▍                    | 337 kB 8.8 MB/s eta 0:00:01\r\u001b[K     |███████████▊                    | 348 kB 8.8 MB/s eta 0:00:01\r\u001b[K     |████████████                    | 358 kB 8.8 MB/s eta 0:00:01\r\u001b[K     |████████████▍                   | 368 kB 8.8 MB/s eta 0:00:01\r\u001b[K     |████████████▊                   | 378 kB 8.8 MB/s eta 0:00:01\r\u001b[K     |█████████████▏                  | 389 kB 8.8 MB/s eta 0:00:01\r\u001b[K     |█████████████▌                  | 399 kB 8.8 MB/s eta 0:00:01\r\u001b[K     |█████████████▉                  | 409 kB 8.8 MB/s eta 0:00:01\r\u001b[K     |██████████████▏                 | 419 kB 8.8 MB/s eta 0:00:01\r\u001b[K     |██████████████▌                 | 430 kB 8.8 MB/s eta 0:00:01\r\u001b[K     |██████████████▉                 | 440 kB 8.8 MB/s eta 0:00:01\r\u001b[K     |███████████████▏                | 450 kB 8.8 MB/s eta 0:00:01\r\u001b[K     |███████████████▌                | 460 kB 8.8 MB/s eta 0:00:01\r\u001b[K     |███████████████▉                | 471 kB 8.8 MB/s eta 0:00:01\r\u001b[K     |████████████████▎               | 481 kB 8.8 MB/s eta 0:00:01\r\u001b[K     |████████████████▋               | 491 kB 8.8 MB/s eta 0:00:01\r\u001b[K     |█████████████████               | 501 kB 8.8 MB/s eta 0:00:01\r\u001b[K     |█████████████████▎              | 512 kB 8.8 MB/s eta 0:00:01\r\u001b[K     |█████████████████▋              | 522 kB 8.8 MB/s eta 0:00:01\r\u001b[K     |██████████████████              | 532 kB 8.8 MB/s eta 0:00:01\r\u001b[K     |██████████████████▎             | 542 kB 8.8 MB/s eta 0:00:01\r\u001b[K     |██████████████████▋             | 552 kB 8.8 MB/s eta 0:00:01\r\u001b[K     |███████████████████             | 563 kB 8.8 MB/s eta 0:00:01\r\u001b[K     |███████████████████▍            | 573 kB 8.8 MB/s eta 0:00:01\r\u001b[K     |███████████████████▊            | 583 kB 8.8 MB/s eta 0:00:01\r\u001b[K     |████████████████████            | 593 kB 8.8 MB/s eta 0:00:01\r\u001b[K     |████████████████████▍           | 604 kB 8.8 MB/s eta 0:00:01\r\u001b[K     |████████████████████▊           | 614 kB 8.8 MB/s eta 0:00:01\r\u001b[K     |█████████████████████           | 624 kB 8.8 MB/s eta 0:00:01\r\u001b[K     |█████████████████████▍          | 634 kB 8.8 MB/s eta 0:00:01\r\u001b[K     |█████████████████████▊          | 645 kB 8.8 MB/s eta 0:00:01\r\u001b[K     |██████████████████████          | 655 kB 8.8 MB/s eta 0:00:01\r\u001b[K     |██████████████████████▌         | 665 kB 8.8 MB/s eta 0:00:01\r\u001b[K     |██████████████████████▉         | 675 kB 8.8 MB/s eta 0:00:01\r\u001b[K     |███████████████████████▏        | 686 kB 8.8 MB/s eta 0:00:01\r\u001b[K     |███████████████████████▌        | 696 kB 8.8 MB/s eta 0:00:01\r\u001b[K     |███████████████████████▉        | 706 kB 8.8 MB/s eta 0:00:01\r\u001b[K     |████████████████████████▏       | 716 kB 8.8 MB/s eta 0:00:01\r\u001b[K     |████████████████████████▌       | 727 kB 8.8 MB/s eta 0:00:01\r\u001b[K     |████████████████████████▉       | 737 kB 8.8 MB/s eta 0:00:01\r\u001b[K     |█████████████████████████▏      | 747 kB 8.8 MB/s eta 0:00:01\r\u001b[K     |█████████████████████████▌      | 757 kB 8.8 MB/s eta 0:00:01\r\u001b[K     |██████████████████████████      | 768 kB 8.8 MB/s eta 0:00:01\r\u001b[K     |██████████████████████████▎     | 778 kB 8.8 MB/s eta 0:00:01\r\u001b[K     |██████████████████████████▋     | 788 kB 8.8 MB/s eta 0:00:01\r\u001b[K     |███████████████████████████     | 798 kB 8.8 MB/s eta 0:00:01\r\u001b[K     |███████████████████████████▎    | 808 kB 8.8 MB/s eta 0:00:01\r\u001b[K     |███████████████████████████▋    | 819 kB 8.8 MB/s eta 0:00:01\r\u001b[K     |████████████████████████████    | 829 kB 8.8 MB/s eta 0:00:01\r\u001b[K     |████████████████████████████▎   | 839 kB 8.8 MB/s eta 0:00:01\r\u001b[K     |████████████████████████████▋   | 849 kB 8.8 MB/s eta 0:00:01\r\u001b[K     |█████████████████████████████   | 860 kB 8.8 MB/s eta 0:00:01\r\u001b[K     |█████████████████████████████▍  | 870 kB 8.8 MB/s eta 0:00:01\r\u001b[K     |█████████████████████████████▊  | 880 kB 8.8 MB/s eta 0:00:01\r\u001b[K     |██████████████████████████████  | 890 kB 8.8 MB/s eta 0:00:01\r\u001b[K     |██████████████████████████████▍ | 901 kB 8.8 MB/s eta 0:00:01\r\u001b[K     |██████████████████████████████▊ | 911 kB 8.8 MB/s eta 0:00:01\r\u001b[K     |███████████████████████████████ | 921 kB 8.8 MB/s eta 0:00:01\r\u001b[K     |███████████████████████████████▍| 931 kB 8.8 MB/s eta 0:00:01\r\u001b[K     |███████████████████████████████▊| 942 kB 8.8 MB/s eta 0:00:01\r\u001b[K     |████████████████████████████████| 948 kB 8.8 MB/s \n",
            "\u001b[?25hRequirement already satisfied: numpy in /usr/local/lib/python3.7/dist-packages (from glove_python_binary) (1.21.5)\n",
            "Requirement already satisfied: scipy in /usr/local/lib/python3.7/dist-packages (from glove_python_binary) (1.4.1)\n",
            "Installing collected packages: glove-python-binary\n",
            "Successfully installed glove-python-binary-0.2.0\n"
          ]
        }
      ]
    },
    {
      "cell_type": "code",
      "source": [
        "import nltk\n",
        "nltk.download('punkt')"
      ],
      "metadata": {
        "colab": {
          "base_uri": "https://localhost:8080/"
        },
        "id": "FrDeIpl1LC9B",
        "outputId": "8851f352-75dd-4459-82ec-05d532a445eb"
      },
      "execution_count": null,
      "outputs": [
        {
          "output_type": "stream",
          "name": "stdout",
          "text": [
            "[nltk_data] Downloading package punkt to /root/nltk_data...\n",
            "[nltk_data]   Unzipping tokenizers/punkt.zip.\n"
          ]
        },
        {
          "output_type": "execute_result",
          "data": {
            "text/plain": [
              "True"
            ]
          },
          "metadata": {},
          "execution_count": 22
        }
      ]
    },
    {
      "cell_type": "code",
      "source": [
        "import urllib.request\n",
        "import zipfile\n",
        "from lxml import etree\n",
        "import re\n",
        "from nltk.tokenize import word_tokenize, sent_tokenize"
      ],
      "metadata": {
        "id": "e7DPzZxqLC2x"
      },
      "execution_count": null,
      "outputs": []
    },
    {
      "cell_type": "code",
      "source": [
        "# 데이터 다운로드\n",
        "urllib.request.urlretrieve(\"https://raw.githubusercontent.com/GaoleMeng/RNN-and-FFNN-textClassification/master/ted_en-20160408.xml\", filename=\"ted_en-20160408.xml\")"
      ],
      "metadata": {
        "colab": {
          "base_uri": "https://localhost:8080/"
        },
        "id": "n5Fs1XWrLGzQ",
        "outputId": "4f0c324d-ba7d-4b7e-de32-0c38c772e40a"
      },
      "execution_count": null,
      "outputs": [
        {
          "output_type": "execute_result",
          "data": {
            "text/plain": [
              "('ted_en-20160408.xml', <http.client.HTTPMessage at 0x7fe2d4003290>)"
            ]
          },
          "metadata": {},
          "execution_count": 24
        }
      ]
    },
    {
      "cell_type": "code",
      "source": [
        "targetXML = open('ted_en-20160408.xml', 'r', encoding='UTF8')\n",
        "target_text = etree.parse(targetXML)\n",
        "\n",
        "# xml 파일로부터 <content>와 </content> 사이의 내용만 가져온다.\n",
        "parse_text = '\\n'.join(target_text.xpath('//content/text()'))\n",
        "\n",
        "# 정규 표현식의 sub 모듈을 통해 content 중간에 등장하는 (Audio), (Laughter) 등의 배경음 부분을 제거.\n",
        "# 해당 코드는 괄호로 구성된 내용을 제거.\n",
        "content_text = re.sub(r'\\([^)]*\\)', '', parse_text)\n",
        "\n",
        "# 입력 코퍼스에 대해서 NLTK를 이용하여 문장 토큰화를 수행.\n",
        "sent_text = sent_tokenize(content_text)\n",
        "\n",
        "# 각 문장에 대해서 구두점을 제거하고, 대문자를 소문자로 변환.\n",
        "normalized_text = []\n",
        "for string in sent_text:\n",
        "     tokens = re.sub(r\"[^a-z0-9]+\", \" \", string.lower())\n",
        "     normalized_text.append(tokens)\n",
        "\n",
        "# 각 문장에 대해서 NLTK를 이용하여 단어 토큰화를 수행.\n",
        "result = [word_tokenize(sentence) for sentence in normalized_text]"
      ],
      "metadata": {
        "id": "iY1UjbL5LKWg"
      },
      "execution_count": null,
      "outputs": []
    },
    {
      "cell_type": "code",
      "source": [
        "%%time\n",
        "from glove import Corpus, Glove\n",
        "\n",
        "corpus = Corpus() \n",
        "\n",
        "# 훈련 데이터로부터 GloVe에서 사용할 동시 등장 행렬 생성\n",
        "corpus.fit(result, window=5)\n",
        "glove = Glove(no_components=100, learning_rate=0.05)\n",
        "\n",
        "# 학습에 이용할 쓰레드의 개수는 4로 설정, 에포크는 20.\n",
        "glove.fit(corpus.matrix, epochs=20, no_threads=4, verbose=True)\n",
        "glove.add_dictionary(corpus.dictionary)"
      ],
      "metadata": {
        "colab": {
          "base_uri": "https://localhost:8080/"
        },
        "id": "oqTBhtWXKEe5",
        "outputId": "272cb6e4-2525-471c-94c0-f8eea4db0f6a"
      },
      "execution_count": null,
      "outputs": [
        {
          "output_type": "stream",
          "name": "stdout",
          "text": [
            "Performing 20 training epochs with 4 threads\n",
            "Epoch 0\n",
            "Epoch 1\n",
            "Epoch 2\n",
            "Epoch 3\n",
            "Epoch 4\n",
            "Epoch 5\n",
            "Epoch 6\n",
            "Epoch 7\n",
            "Epoch 8\n",
            "Epoch 9\n",
            "Epoch 10\n",
            "Epoch 11\n",
            "Epoch 12\n",
            "Epoch 13\n",
            "Epoch 14\n",
            "Epoch 15\n",
            "Epoch 16\n",
            "Epoch 17\n",
            "Epoch 18\n",
            "Epoch 19\n",
            "CPU times: user 3min 53s, sys: 270 ms, total: 3min 53s\n",
            "Wall time: 2min 6s\n"
          ]
        }
      ]
    },
    {
      "cell_type": "code",
      "source": [
        "v=len(tokenizer.word_index)\n",
        "\n",
        "embedding_matrix=np.zeros((v+1,300), dtype=float)\n",
        "for word,idx in tokenizer.word_index.items():\n",
        "    embedding_vector=glove.get(word)\n",
        "    if embedding_vector is not None:\n",
        "        embedding_matrix[idx]=embedding_vector"
      ],
      "metadata": {
        "id": "-mQZJgAWJjFc"
      },
      "execution_count": null,
      "outputs": []
    },
    {
      "cell_type": "markdown",
      "source": [
        "## Model"
      ],
      "metadata": {
        "id": "Ob6_KRAsJjix"
      }
    },
    {
      "cell_type": "code",
      "source": [
        "model=Sequential()\n",
        "model.add(Input(shape=(50,)))\n",
        "model.add(Embedding(v+1,300,weights=[embedding_matrix],trainable=False))\n",
        "model.add(LSTM(128,return_sequences=True))\n",
        "model.add(GlobalMaxPooling1D())\n",
        "model.add(Dropout(0.3))\n",
        "model.add(Dense(256,activation='relu'))\n",
        "model.add(Dropout(0.2))\n",
        "model.add(Dense(1,activation='sigmoid'))\n",
        "model.compile(optimizer='Adam',loss='binary_crossentropy',metrics=['accuracy'])"
      ],
      "metadata": {
        "id": "eJ_gyuBqJA3g"
      },
      "execution_count": null,
      "outputs": []
    },
    {
      "cell_type": "code",
      "source": [
        "model.summary()"
      ],
      "metadata": {
        "colab": {
          "base_uri": "https://localhost:8080/"
        },
        "id": "Oz1PaVWf5iIp",
        "outputId": "bcc33e39-f681-48c3-bf37-774e4e342e8a"
      },
      "execution_count": null,
      "outputs": [
        {
          "output_type": "stream",
          "name": "stdout",
          "text": [
            "Model: \"sequential_13\"\n",
            "_________________________________________________________________\n",
            " Layer (type)                Output Shape              Param #   \n",
            "=================================================================\n",
            " embedding_11 (Embedding)    (None, 50, 300)           300       \n",
            "                                                                 \n",
            " lstm_11 (LSTM)              (None, 50, 128)           219648    \n",
            "                                                                 \n",
            " global_max_pooling1d_11 (Gl  (None, 128)              0         \n",
            " obalMaxPooling1D)                                               \n",
            "                                                                 \n",
            " dropout_1 (Dropout)         (None, 128)               0         \n",
            "                                                                 \n",
            " dense_22 (Dense)            (None, 256)               33024     \n",
            "                                                                 \n",
            " dropout_2 (Dropout)         (None, 256)               0         \n",
            "                                                                 \n",
            " dense_23 (Dense)            (None, 1)                 257       \n",
            "                                                                 \n",
            "=================================================================\n",
            "Total params: 253,229\n",
            "Trainable params: 252,929\n",
            "Non-trainable params: 300\n",
            "_________________________________________________________________\n"
          ]
        }
      ]
    },
    {
      "cell_type": "code",
      "source": [
        "%%time\n",
        "r=model.fit(train_text_pad,train_output,validation_data=(test_text_pad,test_output),\n",
        "            epochs=50,batch_size=256,callbacks=[early_stop,reducelr])"
      ],
      "metadata": {
        "colab": {
          "base_uri": "https://localhost:8080/"
        },
        "id": "q13Ft7chJCwY",
        "outputId": "f6ca2af5-28d5-43d6-9539-de2ba95ad8ff"
      },
      "execution_count": null,
      "outputs": [
        {
          "output_type": "stream",
          "name": "stdout",
          "text": [
            "Epoch 1/50\n",
            "712/712 [==============================] - 381s 533ms/step - loss: 0.6931 - accuracy: 0.5050 - val_loss: 0.6931 - val_accuracy: 0.5051 - lr: 0.0010\n",
            "Epoch 2/50\n",
            "712/712 [==============================] - 372s 522ms/step - loss: 0.6931 - accuracy: 0.5051 - val_loss: 0.6931 - val_accuracy: 0.5051 - lr: 0.0010\n",
            "Epoch 3/50\n",
            "712/712 [==============================] - 368s 516ms/step - loss: 0.6931 - accuracy: 0.5051 - val_loss: 0.6931 - val_accuracy: 0.5051 - lr: 0.0010\n",
            "Epoch 4/50\n",
            "712/712 [==============================] - 371s 522ms/step - loss: 0.6931 - accuracy: 0.5051 - val_loss: 0.6931 - val_accuracy: 0.5051 - lr: 0.0010\n",
            "Epoch 5/50\n",
            "712/712 [==============================] - 361s 508ms/step - loss: 0.6931 - accuracy: 0.5051 - val_loss: 0.6931 - val_accuracy: 0.5051 - lr: 1.0000e-04\n",
            "Epoch 6/50\n",
            "712/712 [==============================] - 366s 514ms/step - loss: 0.6931 - accuracy: 0.5051 - val_loss: 0.6931 - val_accuracy: 0.5051 - lr: 1.0000e-04\n",
            "Epoch 7/50\n",
            "712/712 [==============================] - 364s 512ms/step - loss: 0.6931 - accuracy: 0.5051 - val_loss: 0.6931 - val_accuracy: 0.5051 - lr: 1.0000e-04\n",
            "Epoch 8/50\n",
            "712/712 [==============================] - 365s 513ms/step - loss: 0.6931 - accuracy: 0.5051 - val_loss: 0.6931 - val_accuracy: 0.5051 - lr: 1.0000e-05\n",
            "Epoch 9/50\n",
            "712/712 [==============================] - 369s 519ms/step - loss: 0.6931 - accuracy: 0.5051 - val_loss: 0.6931 - val_accuracy: 0.5051 - lr: 1.0000e-05\n",
            "Epoch 10/50\n",
            "712/712 [==============================] - 367s 516ms/step - loss: 0.6931 - accuracy: 0.5051 - val_loss: 0.6931 - val_accuracy: 0.5051 - lr: 1.0000e-05\n",
            "Epoch 11/50\n",
            "712/712 [==============================] - 368s 518ms/step - loss: 0.6931 - accuracy: 0.5051 - val_loss: 0.6931 - val_accuracy: 0.5051 - lr: 1.0000e-06\n",
            "Epoch 12/50\n",
            "712/712 [==============================] - 366s 514ms/step - loss: 0.6931 - accuracy: 0.5051 - val_loss: 0.6931 - val_accuracy: 0.5051 - lr: 1.0000e-06\n",
            "Epoch 13/50\n",
            "712/712 [==============================] - 362s 509ms/step - loss: 0.6931 - accuracy: 0.5051 - val_loss: 0.6931 - val_accuracy: 0.5051 - lr: 1.0000e-06\n",
            "CPU times: user 2h 19min 1s, sys: 6min 5s, total: 2h 25min 7s\n",
            "Wall time: 1h 19min 41s\n"
          ]
        }
      ]
    },
    {
      "cell_type": "code",
      "source": [
        "import matplotlib.pyplot as plt\n"
      ],
      "metadata": {
        "id": "hepLSOygXImq"
      },
      "execution_count": null,
      "outputs": []
    },
    {
      "cell_type": "code",
      "source": [
        "plt.figure(figsize=(10,8))\n",
        "plt.plot(r.history['accuracy'])\n",
        "plt.plot(r.history['val_accuracy'])\n",
        "plt.title('ACCURACY CURVE',fontdict={'size':20})\n",
        "plt.ylabel('Accuracy')\n",
        "plt.xlabel('Epoch')\n",
        "plt.legend(['Train', 'Test'], loc='lower right')\n",
        "plt.show()"
      ],
      "metadata": {
        "colab": {
          "base_uri": "https://localhost:8080/",
          "height": 517
        },
        "id": "aIwXU3FhXEoy",
        "outputId": "f0db7b34-9f84-47b7-ef8d-ee83ead26c80"
      },
      "execution_count": null,
      "outputs": [
        {
          "output_type": "display_data",
          "data": {
            "image/png": "[encoded data removed]",
            "text/plain": [
              "<Figure size 720x576 with 1 Axes>"
            ]
          },
          "metadata": {
            "needs_background": "light"
          }
        }
      ]
    },
    {
      "cell_type": "code",
      "source": [
        "plt.figure(figsize=(8,10))\n",
        "plt.plot(r.history['loss'])\n",
        "plt.plot(r.history['val_loss'])\n",
        "plt.title('LOSS CURVE',fontdict={'size':20})\n",
        "plt.ylabel('Loss')\n",
        "plt.xlabel('Epoch')\n",
        "plt.legend(['Train', 'Test'], loc='upper left')\n",
        "plt.show()"
      ],
      "metadata": {
        "colab": {
          "base_uri": "https://localhost:8080/",
          "height": 627
        },
        "id": "4v03ftVBXGnJ",
        "outputId": "df55b0e4-bcb2-4fb2-9304-599d7378c390"
      },
      "execution_count": null,
      "outputs": [
        {
          "output_type": "display_data",
          "data": {
            "image/png": "[encoded data removed]",
            "text/plain": [
              "<Figure size 576x720 with 1 Axes>"
            ]
          },
          "metadata": {
            "needs_background": "light"
          }
        }
      ]
    },
    {
      "cell_type": "code",
      "source": [
        "model.predict(test_text_pad)"
      ],
      "metadata": {
        "colab": {
          "base_uri": "https://localhost:8080/"
        },
        "id": "dLkVV3s-2KkT",
        "outputId": "d78600be-2e89-47df-adf8-52551565f33f"
      },
      "execution_count": null,
      "outputs": [
        {
          "output_type": "execute_result",
          "data": {
            "text/plain": [
              "array([[0.50528246],\n",
              "       [0.50528246],\n",
              "       [0.50528246],\n",
              "       ...,\n",
              "       [0.50528246],\n",
              "       [0.50528246],\n",
              "       [0.50528246]], dtype=float32)"
            ]
          },
          "metadata": {},
          "execution_count": 86
        }
      ]
    },
    {
      "cell_type": "code",
      "source": [
        "import pickle\n",
        "with open('model_mine.pkl','wb') as pickle_file:\n",
        "    pickle.dump(model, pickle_file)"
      ],
      "metadata": {
        "colab": {
          "base_uri": "https://localhost:8080/"
        },
        "id": "zCuC_Zbk7EnG",
        "outputId": "696cbb30-1be2-4e6a-8a6c-3a62d9b35372"
      },
      "execution_count": null,
      "outputs": [
        {
          "output_type": "stream",
          "name": "stderr",
          "text": [
            "WARNING:absl:Found untraced functions such as lstm_cell_11_layer_call_fn, lstm_cell_11_layer_call_and_return_conditional_losses while saving (showing 2 of 2). These functions will not be directly callable after loading.\n"
          ]
        },
        {
          "output_type": "stream",
          "name": "stdout",
          "text": [
            "INFO:tensorflow:Assets written to: ram://895b8452-0837-4fc8-9f6c-771d11f8b04f/assets\n"
          ]
        },
        {
          "output_type": "stream",
          "name": "stderr",
          "text": [
            "INFO:tensorflow:Assets written to: ram://895b8452-0837-4fc8-9f6c-771d11f8b04f/assets\n",
            "WARNING:absl:<keras.layers.recurrent.LSTMCell object at 0x7fe2b2a77d10> has the same name 'LSTMCell' as a built-in Keras object. Consider renaming <class 'keras.layers.recurrent.LSTMCell'> to avoid naming conflicts when loading with `tf.keras.models.load_model`. If renaming is not possible, pass the object in the `custom_objects` parameter of the load function.\n"
          ]
        }
      ]
    },
    {
      "cell_type": "markdown",
      "source": [
        "# NLTK vador"
      ],
      "metadata": {
        "id": "Z4g3mBhdlb7p"
      }
    },
    {
      "cell_type": "code",
      "source": [
        "import nltk\n",
        "nltk.download('vader_lexicon')"
      ],
      "metadata": {
        "colab": {
          "base_uri": "https://localhost:8080/"
        },
        "id": "ePhLVufOlvvs",
        "outputId": "ea0e0be8-995c-4a1a-91b1-d9cb6b93e679"
      },
      "execution_count": null,
      "outputs": [
        {
          "output_type": "stream",
          "name": "stdout",
          "text": [
            "[nltk_data] Downloading package vader_lexicon to /root/nltk_data...\n"
          ]
        },
        {
          "output_type": "execute_result",
          "data": {
            "text/plain": [
              "True"
            ]
          },
          "metadata": {},
          "execution_count": 16
        }
      ]
    },
    {
      "cell_type": "code",
      "source": [
        "from sklearn.feature_extraction.text import TfidfVectorizer\n",
        "from nltk.sentiment.vader import SentimentIntensityAnalyzer"
      ],
      "metadata": {
        "colab": {
          "base_uri": "https://localhost:8080/"
        },
        "id": "fNLW1Tc4lbMl",
        "outputId": "10795947-3683-46d6-93e8-f3de3f96373c"
      },
      "execution_count": null,
      "outputs": [
        {
          "output_type": "stream",
          "name": "stderr",
          "text": [
            "/usr/local/lib/python3.7/dist-packages/nltk/twitter/__init__.py:20: UserWarning: The twython library has not been installed. Some functionality from the twitter package will not be available.\n",
            "  warnings.warn(\"The twython library has not been installed. \"\n"
          ]
        }
      ]
    },
    {
      "cell_type": "code",
      "source": [
        "train_X.shape"
      ],
      "metadata": {
        "colab": {
          "base_uri": "https://localhost:8080/"
        },
        "id": "i5-OTkCPoHw-",
        "outputId": "81c453e5-7319-4682-d77a-1d5798512ca9"
      },
      "execution_count": null,
      "outputs": [
        {
          "output_type": "execute_result",
          "data": {
            "text/plain": [
              "(182134, 4)"
            ]
          },
          "metadata": {},
          "execution_count": 27
        }
      ]
    },
    {
      "cell_type": "code",
      "source": [
        "train_X.index[182133:]"
      ],
      "metadata": {
        "colab": {
          "base_uri": "https://localhost:8080/"
        },
        "id": "stBPSdjBn05b",
        "outputId": "abb51198-0dee-4ae7-9750-910ca96e11d0"
      },
      "execution_count": null,
      "outputs": [
        {
          "output_type": "execute_result",
          "data": {
            "text/plain": [
              "RangeIndex(start=182133, stop=182134, step=1)"
            ]
          },
          "metadata": {},
          "execution_count": 26
        }
      ]
    },
    {
      "cell_type": "code",
      "source": [
        "sa = SentimentIntensityAnalyzer()\n",
        "sample_review = train_X.text[:2]\n",
        "p=[]\n",
        "for test in sample_review:\n",
        "  print(type(test))\n",
        "  p.append(sa.polarity_scores(test)['compound'])"
      ],
      "metadata": {
        "id": "HRnEC7Zc8QBX",
        "outputId": "7a247c6f-2896-4fb8-81f6-1e5be277fed1",
        "colab": {
          "base_uri": "https://localhost:8080/"
        }
      },
      "execution_count": null,
      "outputs": [
        {
          "output_type": "stream",
          "name": "stdout",
          "text": [
            "<class 'str'>\n",
            "<class 'str'>\n"
          ]
        }
      ]
    },
    {
      "cell_type": "code",
      "source": [
        "sa = SentimentIntensityAnalyzer()\n",
        "sample_review = train_X.text[:2\n",
        "p=[]\n",
        "for test in sample_review:\n",
        "  print\n",
        "  p.append(sa.polarity_scores(test)['compound'])\n",
        "p"
      ],
      "metadata": {
        "colab": {
          "base_uri": "https://localhost:8080/"
        },
        "id": "yDHU-e_blmpe",
        "outputId": "91c8e718-1fc2-4b61-9264-fff07c7b21de"
      },
      "execution_count": null,
      "outputs": [
        {
          "output_type": "execute_result",
          "data": {
            "text/plain": [
              "[-0.0156,\n",
              " 0.128,\n",
              " -0.9937,\n",
              " 0.8524,\n",
              " -0.0353,\n",
              " 0.1027,\n",
              " -0.9524,\n",
              " 0.0,\n",
              " -0.7964,\n",
              " -0.91,\n",
              " -0.1041,\n",
              " -0.9611,\n",
              " 0.8599,\n",
              " 0.0,\n",
              " -0.4519,\n",
              " 0.9883,\n",
              " -0.5883,\n",
              " 0.5719,\n",
              " -0.2732,\n",
              " 0.7269,\n",
              " 0.4019,\n",
              " -0.9947,\n",
              " 0.8225,\n",
              " -0.9991,\n",
              " -0.9219,\n",
              " -0.567,\n",
              " -0.9906,\n",
              " 0.3182,\n",
              " -0.969,\n",
              " 0.8316,\n",
              " 0.9371,\n",
              " -0.8624,\n",
              " 0.8591,\n",
              " 0.7598,\n",
              " -0.25,\n",
              " -0.9794,\n",
              " -0.9968,\n",
              " -0.9677,\n",
              " -0.9797,\n",
              " -0.6329,\n",
              " -0.9274,\n",
              " -0.4404,\n",
              " 0.836,\n",
              " 0.2354,\n",
              " 0.8565,\n",
              " 0.7269,\n",
              " -0.8851,\n",
              " 0.2862,\n",
              " -0.7003,\n",
              " -0.9081,\n",
              " -0.9943,\n",
              " 0.9961,\n",
              " -0.7371,\n",
              " 0.9853,\n",
              " -0.0772,\n",
              " 0.8225,\n",
              " -0.9511,\n",
              " -0.9792,\n",
              " 0.0,\n",
              " 0.0258,\n",
              " -0.25,\n",
              " -0.7548,\n",
              " -0.9957,\n",
              " 0.7153,\n",
              " -0.7337,\n",
              " 0.6234,\n",
              " -0.8389,\n",
              " 0.296,\n",
              " -0.1531,\n",
              " 0.6573,\n",
              " -0.9853,\n",
              " 0.1779,\n",
              " 0.8936,\n",
              " -0.484,\n",
              " -0.9641,\n",
              " -0.8834,\n",
              " -0.5423,\n",
              " 0.0,\n",
              " -0.9325,\n",
              " 0.8261,\n",
              " -0.4482,\n",
              " -0.9916,\n",
              " 0.4019,\n",
              " -0.9168,\n",
              " 0.9718,\n",
              " -0.9566,\n",
              " -0.765,\n",
              " 0.9003,\n",
              " 0.9515,\n",
              " 0.9868,\n",
              " 0.4588,\n",
              " -0.9904,\n",
              " 0.0,\n",
              " -0.3318,\n",
              " 0.0,\n",
              " -0.9062,\n",
              " 0.0,\n",
              " -0.0258,\n",
              " 0.0,\n",
              " 0.6129,\n",
              " 0.3129,\n",
              " 0.4939,\n",
              " -0.0757,\n",
              " -0.9904,\n",
              " -0.9624,\n",
              " -0.6705,\n",
              " 0.6343,\n",
              " 0.9167,\n",
              " -0.4588,\n",
              " 0.9907,\n",
              " 0.9538,\n",
              " -0.9134,\n",
              " -0.2815,\n",
              " 0.1531,\n",
              " 0.4523,\n",
              " 0.7845,\n",
              " 0.3612,\n",
              " 0.8965,\n",
              " -0.5859,\n",
              " -0.4215,\n",
              " 0.127,\n",
              " -0.5574,\n",
              " -0.936,\n",
              " 0.9389,\n",
              " 0.8316,\n",
              " -0.9479,\n",
              " 0.8625,\n",
              " 0.9799,\n",
              " -0.4215,\n",
              " -0.6369,\n",
              " 0.9358,\n",
              " 0.8658,\n",
              " 0.6124,\n",
              " -0.9929,\n",
              " 0.0,\n",
              " 0.5617,\n",
              " -0.8321,\n",
              " -0.9246,\n",
              " 0.9507,\n",
              " -0.0258,\n",
              " -0.9761,\n",
              " 0.7128,\n",
              " -0.9899,\n",
              " -0.0516,\n",
              " 0.0,\n",
              " -0.9941,\n",
              " 0.2023,\n",
              " 0.0,\n",
              " -0.4236,\n",
              " -0.9981,\n",
              " 0.6369,\n",
              " 0.8233,\n",
              " 0.8573,\n",
              " -0.9968,\n",
              " 0.0,\n",
              " 0.4404,\n",
              " 0.9477,\n",
              " -0.7988,\n",
              " -0.4588,\n",
              " -0.762,\n",
              " -0.34,\n",
              " -0.0258,\n",
              " 0.3182,\n",
              " 0.7521,\n",
              " -0.9728,\n",
              " 0.5618,\n",
              " -0.9929,\n",
              " -0.9664,\n",
              " 0.7807,\n",
              " 0.8555,\n",
              " -0.9421,\n",
              " 0.7003,\n",
              " -0.872,\n",
              " 0.3847,\n",
              " -0.8159,\n",
              " 0.0,\n",
              " -0.6114,\n",
              " -0.8967,\n",
              " -0.4118,\n",
              " 0.872,\n",
              " -0.9639,\n",
              " 0.3875,\n",
              " 0.53,\n",
              " -0.7184,\n",
              " -0.9858,\n",
              " -0.7843,\n",
              " 0.0,\n",
              " 0.8689,\n",
              " 0.9211,\n",
              " 0.5423,\n",
              " 0.7096,\n",
              " -0.2732,\n",
              " 0.0946,\n",
              " 0.4019,\n",
              " 0.5106,\n",
              " 0.4767,\n",
              " 0.9231,\n",
              " 0.8563,\n",
              " 0.6249,\n",
              " 0.9114,\n",
              " 0.3612,\n",
              " -0.8591,\n",
              " -0.8639,\n",
              " 0.0,\n",
              " 0.8967,\n",
              " -0.9944,\n",
              " -0.9118,\n",
              " -0.2023,\n",
              " -0.4059,\n",
              " 0.0706,\n",
              " 0.128,\n",
              " -0.5874,\n",
              " -0.9793,\n",
              " -0.7783,\n",
              " -0.6266,\n",
              " 0.9892,\n",
              " 0.9674,\n",
              " -0.093,\n",
              " -0.8061,\n",
              " -0.8225,\n",
              " 0.7705,\n",
              " -0.9903,\n",
              " -0.9415,\n",
              " -0.9632,\n",
              " 0.7981,\n",
              " -0.9627,\n",
              " -0.9693,\n",
              " -0.7506,\n",
              " 0.5574,\n",
              " -0.9693,\n",
              " -0.8176,\n",
              " -0.1531,\n",
              " -0.1531,\n",
              " -0.9832,\n",
              " -0.9785,\n",
              " 0.3818,\n",
              " -0.4654,\n",
              " -0.9693,\n",
              " -0.1531,\n",
              " 0.5267,\n",
              " 0.0772,\n",
              " -0.1779,\n",
              " -0.2732,\n",
              " 0.5994,\n",
              " 0.6705,\n",
              " -0.8225,\n",
              " -0.9069,\n",
              " -0.8658,\n",
              " -0.8999,\n",
              " 0.9778,\n",
              " -0.9571,\n",
              " -0.8893,\n",
              " -0.9933,\n",
              " 0.6908,\n",
              " -0.9562,\n",
              " 0.4588,\n",
              " 0.0,\n",
              " 0.0,\n",
              " 0.6597,\n",
              " 0.9287,\n",
              " 0.9052,\n",
              " 0.2263,\n",
              " -0.3421,\n",
              " 0.2732,\n",
              " -0.9886,\n",
              " -0.6615,\n",
              " -0.9789,\n",
              " -0.9929,\n",
              " -0.5719,\n",
              " 0.0,\n",
              " -0.9794,\n",
              " 0.1999,\n",
              " -0.9559,\n",
              " -0.872,\n",
              " 0.836,\n",
              " 0.9903,\n",
              " 0.4215,\n",
              " 0.9981,\n",
              " 0.0772,\n",
              " 0.9746,\n",
              " 0.8989,\n",
              " 0.5736,\n",
              " -0.4129,\n",
              " -0.3451,\n",
              " 0.2263,\n",
              " -0.4624,\n",
              " -0.9317,\n",
              " -0.3818,\n",
              " 0.1481,\n",
              " 0.4939,\n",
              " -0.7605,\n",
              " -0.9674,\n",
              " 0.9221,\n",
              " -0.9601,\n",
              " -0.9489,\n",
              " -0.7862,\n",
              " 0.7184,\n",
              " 0.9616,\n",
              " -0.9714,\n",
              " -0.9382,\n",
              " -0.7089,\n",
              " -0.7072,\n",
              " -0.9493,\n",
              " -0.1896,\n",
              " -0.9993,\n",
              " 0.9613,\n",
              " -0.9274,\n",
              " -0.7717,\n",
              " -0.6795,\n",
              " 0.1531,\n",
              " 0.8457,\n",
              " -0.8811,\n",
              " -0.296,\n",
              " -0.9678,\n",
              " 0.7783,\n",
              " -0.0572,\n",
              " -0.9914,\n",
              " 0.0,\n",
              " 0.3818,\n",
              " 0.2263,\n",
              " 0.8715,\n",
              " -0.6412,\n",
              " 0.5267,\n",
              " -0.9041,\n",
              " -0.9651,\n",
              " 0.806,\n",
              " -0.921,\n",
              " -0.2755,\n",
              " 0.0772,\n",
              " -0.91,\n",
              " 0.7184,\n",
              " 0.0,\n",
              " 0.2263,\n",
              " 0.7499,\n",
              " -0.9169,\n",
              " 0.6486,\n",
              " 0.992,\n",
              " 0.9936,\n",
              " -0.5574,\n",
              " 0.8619,\n",
              " -0.7836,\n",
              " -0.8871,\n",
              " -0.9524,\n",
              " -0.7579,\n",
              " -0.2491,\n",
              " -0.34,\n",
              " -0.3612,\n",
              " 0.34,\n",
              " -0.9229,\n",
              " -0.9434,\n",
              " 0.6254,\n",
              " 0.7579,\n",
              " -0.8275,\n",
              " -0.9521,\n",
              " -0.8689,\n",
              " -0.4404,\n",
              " 0.7096,\n",
              " -0.5423,\n",
              " -0.9137,\n",
              " -0.0372,\n",
              " 0.911,\n",
              " 0.6224,\n",
              " 0.907,\n",
              " 0.0,\n",
              " -0.971,\n",
              " -0.9118,\n",
              " 0.3753,\n",
              " -0.2565,\n",
              " 0.5859,\n",
              " 0.4047,\n",
              " 0.4404,\n",
              " 0.0,\n",
              " 0.2023,\n",
              " 0.6705,\n",
              " -0.9901,\n",
              " -0.25,\n",
              " 0.8271,\n",
              " 0.6164,\n",
              " 0.9441,\n",
              " 0.0772,\n",
              " 0.0,\n",
              " -0.9097,\n",
              " 0.1779,\n",
              " 0.0,\n",
              " -0.9719,\n",
              " 0.0,\n",
              " -0.7003,\n",
              " -0.9645,\n",
              " -0.7583,\n",
              " 0.8779,\n",
              " 0.3948,\n",
              " 0.1916,\n",
              " 0.9366,\n",
              " 0.9602,\n",
              " 0.1531,\n",
              " -0.2732,\n",
              " 0.4215,\n",
              " 0.128,\n",
              " -0.34,\n",
              " 0.9758,\n",
              " -0.9022,\n",
              " -0.963,\n",
              " -0.1749,\n",
              " 0.3176,\n",
              " -0.9479,\n",
              " -0.9944,\n",
              " 0.8442,\n",
              " -0.4019,\n",
              " -0.9325,\n",
              " -0.9527,\n",
              " -0.902,\n",
              " -0.9086,\n",
              " 0.6908,\n",
              " -0.0165,\n",
              " -0.9865,\n",
              " -0.9674,\n",
              " 0.0,\n",
              " -0.9031,\n",
              " 0.2263,\n",
              " -0.34,\n",
              " -0.0258,\n",
              " 0.867,\n",
              " 0.0772,\n",
              " 0.0,\n",
              " -0.9269,\n",
              " -0.9821,\n",
              " -0.0258,\n",
              " 0.872,\n",
              " -0.9884,\n",
              " 0.5994,\n",
              " -0.8583,\n",
              " -0.7269,\n",
              " -0.946,\n",
              " 0.6369,\n",
              " 0.0,\n",
              " 0.4588,\n",
              " -0.6293,\n",
              " -0.6052,\n",
              " -0.128,\n",
              " 0.9766,\n",
              " -0.2944,\n",
              " -0.3794,\n",
              " 0.7281,\n",
              " -0.9699,\n",
              " 0.6822,\n",
              " 0.5859,\n",
              " -0.9849,\n",
              " 0.875,\n",
              " -0.9946,\n",
              " 0.4378,\n",
              " -0.3612,\n",
              " -0.9829,\n",
              " 0.9907,\n",
              " 0.8957,\n",
              " 0.4404,\n",
              " 0.0,\n",
              " 0.7506,\n",
              " -0.9969,\n",
              " -0.9618,\n",
              " -0.4257,\n",
              " -0.0139,\n",
              " 0.9694,\n",
              " 0.1027,\n",
              " 0.0,\n",
              " -0.9913,\n",
              " 0.8657,\n",
              " -0.9956,\n",
              " 0.0,\n",
              " 0.296,\n",
              " -0.8832,\n",
              " -0.6667,\n",
              " 0.9618,\n",
              " -0.9792,\n",
              " 0.1012,\n",
              " 0.9796,\n",
              " -0.5729,\n",
              " -0.896,\n",
              " -0.9965,\n",
              " -0.8237,\n",
              " 0.9389,\n",
              " 0.0,\n",
              " 0.5106,\n",
              " -0.9856,\n",
              " -0.8462,\n",
              " -0.9943,\n",
              " -0.9799,\n",
              " -0.9753,\n",
              " 0.3612,\n",
              " -0.2732,\n",
              " -0.8779,\n",
              " -0.5606,\n",
              " 0.6369,\n",
              " -0.9914,\n",
              " -0.171,\n",
              " 0.8947,\n",
              " 0.0,\n",
              " 0.9119,\n",
              " 0.0,\n",
              " -0.9217,\n",
              " 0.4588,\n",
              " 0.3532,\n",
              " -0.9143,\n",
              " 0.5719,\n",
              " -0.9825,\n",
              " 0.765,\n",
              " -0.7096,\n",
              " 0.2023,\n",
              " 0.6705,\n",
              " 0.34,\n",
              " 0.7925,\n",
              " -0.998,\n",
              " 0.5106,\n",
              " 0.7096,\n",
              " 0.7783,\n",
              " 0.0,\n",
              " -0.7893,\n",
              " 0.9899,\n",
              " 0.3612,\n",
              " -0.0258,\n",
              " 0.7845,\n",
              " -0.9944,\n",
              " -0.9736,\n",
              " 0.3612,\n",
              " 0.0,\n",
              " 0.2198,\n",
              " -0.9377,\n",
              " -0.3715,\n",
              " -0.9629,\n",
              " 0.4939,\n",
              " 0.9643,\n",
              " -0.8481,\n",
              " -0.3653,\n",
              " 0.128,\n",
              " -0.9914,\n",
              " 0.2831,\n",
              " 0.296,\n",
              " 0.5423,\n",
              " -0.9336,\n",
              " -0.9201,\n",
              " -0.8979,\n",
              " 0.6908,\n",
              " -0.9846,\n",
              " -0.7114,\n",
              " -0.2263,\n",
              " -0.0258,\n",
              " -0.9371,\n",
              " 0.847,\n",
              " -0.9274,\n",
              " 0.5719,\n",
              " -0.8281,\n",
              " -0.6808,\n",
              " -0.7479,\n",
              " 0.975,\n",
              " -0.8934,\n",
              " 0.0,\n",
              " 0.9226,\n",
              " -0.8508,\n",
              " -0.9373,\n",
              " -0.1017,\n",
              " 0.9931,\n",
              " 0.4588,\n",
              " -0.9844,\n",
              " -0.9128,\n",
              " 0.8271,\n",
              " 0.0,\n",
              " -0.9512,\n",
              " 0.6134,\n",
              " 0.9283,\n",
              " -0.7666,\n",
              " -0.6705,\n",
              " -0.743,\n",
              " -0.4215,\n",
              " -0.991,\n",
              " 0.0,\n",
              " -0.8316,\n",
              " -0.9311,\n",
              " -0.0665,\n",
              " 0.4939,\n",
              " -0.7351,\n",
              " 0.0,\n",
              " 0.802,\n",
              " 0.4761,\n",
              " 0.4767,\n",
              " 0.6369,\n",
              " -0.9281,\n",
              " 0.0,\n",
              " 0.4019,\n",
              " -0.9944,\n",
              " 0.296,\n",
              " 0.886,\n",
              " 0.0,\n",
              " -0.7009,\n",
              " -0.2163,\n",
              " -0.999,\n",
              " -0.9224,\n",
              " -0.8275,\n",
              " 0.9742,\n",
              " 0.659,\n",
              " -0.5719,\n",
              " -0.9951,\n",
              " -0.9783,\n",
              " 0.4939,\n",
              " 0.8869,\n",
              " 0.9871,\n",
              " 0.3818,\n",
              " -0.2472,\n",
              " 0.765,\n",
              " 0.3612,\n",
              " 0.893,\n",
              " -0.4434,\n",
              " -0.8515,\n",
              " 0.6124,\n",
              " -0.9901,\n",
              " -0.7506,\n",
              " 0.8271,\n",
              " -0.8996,\n",
              " -0.9911,\n",
              " -0.1027,\n",
              " 0.3382,\n",
              " -0.7269,\n",
              " 0.0516,\n",
              " 0.4404,\n",
              " 0.0,\n",
              " -0.2317,\n",
              " 0.9771,\n",
              " -0.5998,\n",
              " 0.3182,\n",
              " -0.9382,\n",
              " 0.9945,\n",
              " -0.8011,\n",
              " 0.9719,\n",
              " 0.9246,\n",
              " -0.049,\n",
              " -0.2023,\n",
              " -0.817,\n",
              " -0.9976,\n",
              " 0.3818,\n",
              " 0.296,\n",
              " 0.128,\n",
              " -0.2263,\n",
              " -0.25,\n",
              " 0.8834,\n",
              " 0.6369,\n",
              " -0.128,\n",
              " 0.5719,\n",
              " 0.9485,\n",
              " -0.9939,\n",
              " 0.5423,\n",
              " 0.3274,\n",
              " -0.4767,\n",
              " -0.0258,\n",
              " 0.0,\n",
              " -0.839,\n",
              " -0.1909,\n",
              " -0.5423,\n",
              " 0.5423,\n",
              " -0.9869,\n",
              " 0.836,\n",
              " 0.4106,\n",
              " 0.8961,\n",
              " 0.6369,\n",
              " -0.973,\n",
              " -0.7003,\n",
              " 0.9633,\n",
              " -0.6486,\n",
              " 0.5106,\n",
              " 0.5664,\n",
              " 0.763,\n",
              " -0.34,\n",
              " 0.9304,\n",
              " -0.5679,\n",
              " -0.1994,\n",
              " 0.9891,\n",
              " 0.1779,\n",
              " -0.8885,\n",
              " 0.7666,\n",
              " 0.8742,\n",
              " -0.6369,\n",
              " 0.4404,\n",
              " -0.9967,\n",
              " -0.7717,\n",
              " -0.6486,\n",
              " 0.3235,\n",
              " 0.3318,\n",
              " 0.5419,\n",
              " -0.8406,\n",
              " 0.852,\n",
              " 0.5106,\n",
              " 0.889,\n",
              " -0.5994,\n",
              " -0.7536,\n",
              " -0.9916,\n",
              " -0.885,\n",
              " 0.0,\n",
              " 0.6124,\n",
              " 0.0,\n",
              " 0.6804,\n",
              " -0.7096,\n",
              " -0.9858,\n",
              " 0.0,\n",
              " -0.6249,\n",
              " -0.9628,\n",
              " 0.8271,\n",
              " -0.9488,\n",
              " -0.7982,\n",
              " -0.0516,\n",
              " -0.9732,\n",
              " 0.7269,\n",
              " -0.6369,\n",
              " 0.9694,\n",
              " -0.5624,\n",
              " -0.6486,\n",
              " 0.0,\n",
              " 0.34,\n",
              " -0.9581,\n",
              " -0.9898,\n",
              " -0.9896,\n",
              " -0.6759,\n",
              " 0.7794,\n",
              " 0.2732,\n",
              " 0.9612,\n",
              " -0.7096,\n",
              " 0.9123,\n",
              " 0.9925,\n",
              " -0.9186,\n",
              " -0.8689,\n",
              " -0.936,\n",
              " -0.9592,\n",
              " -0.1526,\n",
              " -0.9852,\n",
              " -0.9555,\n",
              " 0.2975,\n",
              " 0.1366,\n",
              " 0.9371,\n",
              " 0.4215,\n",
              " 0.7096,\n",
              " -0.0772,\n",
              " -0.8658,\n",
              " -0.9899,\n",
              " -0.8555,\n",
              " 0.743,\n",
              " -0.8777,\n",
              " -0.6124,\n",
              " -0.8173,\n",
              " 0.8276,\n",
              " 0.5321,\n",
              " 0.6494,\n",
              " 0.6369,\n",
              " -0.128,\n",
              " 0.8934,\n",
              " -0.9835,\n",
              " 0.9221,\n",
              " 0.0772,\n",
              " -0.5736,\n",
              " 0.5994,\n",
              " 0.991,\n",
              " 0.5719,\n",
              " 0.128,\n",
              " -0.7982,\n",
              " -0.8979,\n",
              " -0.8916,\n",
              " 0.8689,\n",
              " 0.0,\n",
              " -0.8133,\n",
              " -0.9698,\n",
              " 0.5574,\n",
              " 0.25,\n",
              " 0.9738,\n",
              " 0.3725,\n",
              " 0.9323,\n",
              " -0.624,\n",
              " -0.9652,\n",
              " -0.9731,\n",
              " 0.5648,\n",
              " 0.296,\n",
              " 0.6433,\n",
              " -0.5684,\n",
              " 0.8442,\n",
              " 0.9022,\n",
              " 0.0,\n",
              " -0.8689,\n",
              " -0.8268,\n",
              " 0.994,\n",
              " 0.8625,\n",
              " -0.0428,\n",
              " -0.9974,\n",
              " -0.7089,\n",
              " -0.8531,\n",
              " 0.5267,\n",
              " -0.8357,\n",
              " 0.9623,\n",
              " 0.6597,\n",
              " -0.8316,\n",
              " -0.981,\n",
              " -0.9957,\n",
              " -0.7264,\n",
              " 0.0,\n",
              " -0.9646,\n",
              " 0.6602,\n",
              " -0.9472,\n",
              " 0.0,\n",
              " 0.4404,\n",
              " -0.0516,\n",
              " 0.4939,\n",
              " 0.4019,\n",
              " 0.7968,\n",
              " 0.9608,\n",
              " -0.9738,\n",
              " -0.3818,\n",
              " -0.9213,\n",
              " -0.8807,\n",
              " -0.9938,\n",
              " -0.7243,\n",
              " -0.8469,\n",
              " 0.8674,\n",
              " -0.9707,\n",
              " 0.4417,\n",
              " -0.4215,\n",
              " 0.6808,\n",
              " 0.4939,\n",
              " 0.6369,\n",
              " -0.0516,\n",
              " -0.3214,\n",
              " 0.873,\n",
              " -0.1154,\n",
              " -0.9357,\n",
              " 0.7003,\n",
              " -0.9825,\n",
              " -0.752,\n",
              " -0.5719,\n",
              " 0.9266,\n",
              " 0.9613,\n",
              " 0.4215,\n",
              " -0.9765,\n",
              " -0.9944,\n",
              " 0.3612,\n",
              " 0.4912,\n",
              " 0.875,\n",
              " -0.9226,\n",
              " -0.9599,\n",
              " -0.7658,\n",
              " 0.9062,\n",
              " -0.4243,\n",
              " 0.2813,\n",
              " -0.8858,\n",
              " -0.0772,\n",
              " -0.7625,\n",
              " -0.7579,\n",
              " -0.593,\n",
              " 0.0,\n",
              " 0.1685,\n",
              " -0.7372,\n",
              " -0.75,\n",
              " -0.4767,\n",
              " 0.9254,\n",
              " -0.5994,\n",
              " 0.3612,\n",
              " 0.4588,\n",
              " -0.2372,\n",
              " 0.25,\n",
              " -0.9798,\n",
              " -0.8689,\n",
              " 0.802,\n",
              " 0.5096,\n",
              " -0.5423,\n",
              " -0.0516,\n",
              " 0.6369,\n",
              " -0.1027,\n",
              " -0.5859,\n",
              " -0.296,\n",
              " -0.2263,\n",
              " 0.7845,\n",
              " 0.6908,\n",
              " -0.9169,\n",
              " 0.34,\n",
              " -0.8085,\n",
              " 0.9807,\n",
              " -0.9934,\n",
              " -0.8818,\n",
              " -0.862,\n",
              " -0.4927,\n",
              " -0.9777,\n",
              " 0.2086,\n",
              " -0.6908,\n",
              " -0.9861,\n",
              " 0.971,\n",
              " -0.9484,\n",
              " 0.027,\n",
              " -0.8885,\n",
              " 0.4019,\n",
              " 0.0,\n",
              " 0.6305,\n",
              " -0.9153,\n",
              " -0.9987,\n",
              " -0.9948,\n",
              " -0.2732,\n",
              " 0.807,\n",
              " 0.6124,\n",
              " 0.0,\n",
              " 0.0,\n",
              " -0.8271,\n",
              " 0.4939,\n",
              " -0.296,\n",
              " 0.9124,\n",
              " 0.743,\n",
              " -0.3054,\n",
              " 0.743,\n",
              " 0.3612,\n",
              " -0.9796,\n",
              " 0.7316,\n",
              " 0.924,\n",
              " 0.1511,\n",
              " 0.2579,\n",
              " -0.9732,\n",
              " 0.4939,\n",
              " -0.8805,\n",
              " -0.9309,\n",
              " -0.926,\n",
              " 0.2828,\n",
              " -0.3468,\n",
              " 0.9201,\n",
              " -0.8545,\n",
              " 0.5442,\n",
              " -0.9832,\n",
              " 0.9274,\n",
              " -0.9628,\n",
              " 0.0772,\n",
              " -0.2263,\n",
              " -0.6597,\n",
              " 0.8696,\n",
              " -0.9371,\n",
              " -0.9901,\n",
              " 0.836,\n",
              " -0.895,\n",
              " 0.9224,\n",
              " 0.0,\n",
              " -0.2732,\n",
              " -0.8929,\n",
              " -0.4019,\n",
              " 0.0,\n",
              " 0.7559,\n",
              " 0.7003,\n",
              " 0.0,\n",
              " 0.4215,\n",
              " -0.9591,\n",
              " 0.8126,\n",
              " 0.6249,\n",
              " 0.8274,\n",
              " -0.6705,\n",
              " -0.5106,\n",
              " -0.9958,\n",
              " 0.8779,\n",
              " -0.9809,\n",
              " -0.995,\n",
              " 0.7428,\n",
              " 0.982,\n",
              " 0.4767,\n",
              " -0.9852,\n",
              " -0.0572,\n",
              " -0.5423,\n",
              " 0.0,\n",
              " 0.9423,\n",
              " 0.5106,\n",
              " 0.9914,\n",
              " 0.1779,\n",
              " -0.9814,\n",
              " -0.7845,\n",
              " -0.9171,\n",
              " -0.9022,\n",
              " -0.988,\n",
              " -0.8186,\n",
              " 0.7579,\n",
              " -0.2732,\n",
              " -0.2263,\n",
              " 0.4767,\n",
              " 0.9836,\n",
              " 0.8882,\n",
              " -0.8658,\n",
              " -0.8356,\n",
              " 0.9089,\n",
              " -0.8632,\n",
              " -0.9472,\n",
              " -0.2978,\n",
              " 0.9449,\n",
              " 0.4767,\n",
              " -0.3624,\n",
              " 0.4215,\n",
              " -0.9944,\n",
              " 0.0,\n",
              " -0.8555,\n",
              " 0.8591,\n",
              " 0.0,\n",
              " 0.5911,\n",
              " -0.6975,\n",
              " 0.8225,\n",
              " -0.296,\n",
              " 0.5423,\n",
              " 0.9686,\n",
              " 0.4463,\n",
              " 0.8993,\n",
              " ...]"
            ]
          },
          "metadata": {},
          "execution_count": 35
        }
      ]
    },
    {
      "cell_type": "code",
      "source": [
        "train_X['score'] = p"
      ],
      "metadata": {
        "id": "CWJhSSy_sm4v"
      },
      "execution_count": null,
      "outputs": []
    },
    {
      "cell_type": "code",
      "source": [
        "train_X.describe()"
      ],
      "metadata": {
        "colab": {
          "base_uri": "https://localhost:8080/",
          "height": 300
        },
        "id": "JAKnnQJpx-40",
        "outputId": "7737ba37-fbf0-47eb-9e37-65fd18e5e09b"
      },
      "execution_count": null,
      "outputs": [
        {
          "output_type": "execute_result",
          "data": {
            "text/html": [
              "\n",
              "  <div id=\"df-1cd681e4-bd6c-4c39-9a2c-b28f93cdfb4e\">\n",
              "    <div class=\"colab-df-container\">\n",
              "      <div>\n",
              "<style scoped>\n",
              "    .dataframe tbody tr th:only-of-type {\n",
              "        vertical-align: middle;\n",
              "    }\n",
              "\n",
              "    .dataframe tbody tr th {\n",
              "        vertical-align: top;\n",
              "    }\n",
              "\n",
              "    .dataframe thead th {\n",
              "        text-align: right;\n",
              "    }\n",
              "</style>\n",
              "<table border=\"1\" class=\"dataframe\">\n",
              "  <thead>\n",
              "    <tr style=\"text-align: right;\">\n",
              "      <th></th>\n",
              "      <th>leng</th>\n",
              "      <th>cnt_tokens</th>\n",
              "      <th>score</th>\n",
              "    </tr>\n",
              "  </thead>\n",
              "  <tbody>\n",
              "    <tr>\n",
              "      <th>count</th>\n",
              "      <td>182134.000000</td>\n",
              "      <td>182134.000000</td>\n",
              "      <td>182134.000000</td>\n",
              "    </tr>\n",
              "    <tr>\n",
              "      <th>mean</th>\n",
              "      <td>366.047267</td>\n",
              "      <td>52.716753</td>\n",
              "      <td>-0.132443</td>\n",
              "    </tr>\n",
              "    <tr>\n",
              "      <th>std</th>\n",
              "      <td>623.818550</td>\n",
              "      <td>91.293974</td>\n",
              "      <td>0.693508</td>\n",
              "    </tr>\n",
              "    <tr>\n",
              "      <th>min</th>\n",
              "      <td>16.000000</td>\n",
              "      <td>4.000000</td>\n",
              "      <td>-1.000000</td>\n",
              "    </tr>\n",
              "    <tr>\n",
              "      <th>25%</th>\n",
              "      <td>81.000000</td>\n",
              "      <td>12.000000</td>\n",
              "      <td>-0.845200</td>\n",
              "    </tr>\n",
              "    <tr>\n",
              "      <th>50%</th>\n",
              "      <td>175.000000</td>\n",
              "      <td>25.000000</td>\n",
              "      <td>-0.177900</td>\n",
              "    </tr>\n",
              "    <tr>\n",
              "      <th>75%</th>\n",
              "      <td>423.000000</td>\n",
              "      <td>61.000000</td>\n",
              "      <td>0.532100</td>\n",
              "    </tr>\n",
              "    <tr>\n",
              "      <th>max</th>\n",
              "      <td>40014.000000</td>\n",
              "      <td>5717.000000</td>\n",
              "      <td>1.000000</td>\n",
              "    </tr>\n",
              "  </tbody>\n",
              "</table>\n",
              "</div>\n",
              "      <button class=\"colab-df-convert\" onclick=\"convertToInteractive('df-1cd681e4-bd6c-4c39-9a2c-b28f93cdfb4e')\"\n",
              "              title=\"Convert this dataframe to an interactive table.\"\n",
              "              style=\"display:none;\">\n",
              "        \n",
              "  <svg xmlns=\"http://www.w3.org/2000/svg\" height=\"24px\"viewBox=\"0 0 24 24\"\n",
              "       width=\"24px\">\n",
              "    <path d=\"M0 0h24v24H0V0z\" fill=\"none\"/>\n",
              "    <path d=\"M18.56 5.44l.94 2.06.94-2.06 2.06-.94-2.06-.94-.94-2.06-.94 2.06-2.06.94zm-11 1L8.5 8.5l.94-2.06 2.06-.94-2.06-.94L8.5 2.5l-.94 2.06-2.06.94zm10 10l.94 2.06.94-2.06 2.06-.94-2.06-.94-.94-2.06-.94 2.06-2.06.94z\"/><path d=\"M17.41 7.96l-1.37-1.37c-.4-.4-.92-.59-1.43-.59-.52 0-1.04.2-1.43.59L10.3 9.45l-7.72 7.72c-.78.78-.78 2.05 0 2.83L4 21.41c.39.39.9.59 1.41.59.51 0 1.02-.2 1.41-.59l7.78-7.78 2.81-2.81c.8-.78.8-2.07 0-2.86zM5.41 20L4 18.59l7.72-7.72 1.47 1.35L5.41 20z\"/>\n",
              "  </svg>\n",
              "      </button>\n",
              "      \n",
              "  <style>\n",
              "    .colab-df-container {\n",
              "      display:flex;\n",
              "      flex-wrap:wrap;\n",
              "      gap: 12px;\n",
              "    }\n",
              "\n",
              "    .colab-df-convert {\n",
              "      background-color: #E8F0FE;\n",
              "      border: none;\n",
              "      border-radius: 50%;\n",
              "      cursor: pointer;\n",
              "      display: none;\n",
              "      fill: #1967D2;\n",
              "      height: 32px;\n",
              "      padding: 0 0 0 0;\n",
              "      width: 32px;\n",
              "    }\n",
              "\n",
              "    .colab-df-convert:hover {\n",
              "      background-color: #E2EBFA;\n",
              "      box-shadow: 0px 1px 2px rgba(60, 64, 67, 0.3), 0px 1px 3px 1px rgba(60, 64, 67, 0.15);\n",
              "      fill: #174EA6;\n",
              "    }\n",
              "\n",
              "    [theme=dark] .colab-df-convert {\n",
              "      background-color: #3B4455;\n",
              "      fill: #D2E3FC;\n",
              "    }\n",
              "\n",
              "    [theme=dark] .colab-df-convert:hover {\n",
              "      background-color: #434B5C;\n",
              "      box-shadow: 0px 1px 3px 1px rgba(0, 0, 0, 0.15);\n",
              "      filter: drop-shadow(0px 1px 2px rgba(0, 0, 0, 0.3));\n",
              "      fill: #FFFFFF;\n",
              "    }\n",
              "  </style>\n",
              "\n",
              "      <script>\n",
              "        const buttonEl =\n",
              "          document.querySelector('#df-1cd681e4-bd6c-4c39-9a2c-b28f93cdfb4e button.colab-df-convert');\n",
              "        buttonEl.style.display =\n",
              "          google.colab.kernel.accessAllowed ? 'block' : 'none';\n",
              "\n",
              "        async function convertToInteractive(key) {\n",
              "          const element = document.querySelector('#df-1cd681e4-bd6c-4c39-9a2c-b28f93cdfb4e');\n",
              "          const dataTable =\n",
              "            await google.colab.kernel.invokeFunction('convertToInteractive',\n",
              "                                                     [key], {});\n",
              "          if (!dataTable) return;\n",
              "\n",
              "          const docLinkHtml = 'Like what you see? Visit the ' +\n",
              "            '<a target=\"_blank\" href=https://colab.research.google.com/notebooks/data_table.ipynb>data table notebook</a>'\n",
              "            + ' to learn more about interactive tables.';\n",
              "          element.innerHTML = '';\n",
              "          dataTable['output_type'] = 'display_data';\n",
              "          await google.colab.output.renderOutput(dataTable, element);\n",
              "          const docLink = document.createElement('div');\n",
              "          docLink.innerHTML = docLinkHtml;\n",
              "          element.appendChild(docLink);\n",
              "        }\n",
              "      </script>\n",
              "    </div>\n",
              "  </div>\n",
              "  "
            ],
            "text/plain": [
              "                leng     cnt_tokens          score\n",
              "count  182134.000000  182134.000000  182134.000000\n",
              "mean      366.047267      52.716753      -0.132443\n",
              "std       623.818550      91.293974       0.693508\n",
              "min        16.000000       4.000000      -1.000000\n",
              "25%        81.000000      12.000000      -0.845200\n",
              "50%       175.000000      25.000000      -0.177900\n",
              "75%       423.000000      61.000000       0.532100\n",
              "max     40014.000000    5717.000000       1.000000"
            ]
          },
          "metadata": {},
          "execution_count": 38
        }
      ]
    },
    {
      "cell_type": "code",
      "source": [
        "import pickle\n",
        "with open('model_vader.pkl','wb') as pickle_file:\n",
        "    pickle.dump(sa, pickle_file)"
      ],
      "metadata": {
        "id": "MIYCN2_ty9Sc"
      },
      "execution_count": null,
      "outputs": []
    }
  ]
}